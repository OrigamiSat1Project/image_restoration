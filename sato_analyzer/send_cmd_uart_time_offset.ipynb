{
 "cells": [
  {
   "cell_type": "code",
   "execution_count": 1,
   "metadata": {},
   "outputs": [],
   "source": [
    "import pandas as pd\n",
    "import numpy as np\n",
    "import binascii\n",
    "import datetime\n",
    "import time\n",
    "import sys"
   ]
  },
  {
   "cell_type": "code",
   "execution_count": 2,
   "metadata": {},
   "outputs": [
    {
     "ename": "ModuleNotFoundError",
     "evalue": "No module named 'serial'",
     "output_type": "error",
     "traceback": [
      "\u001b[1;31m---------------------------------------------------------------------------\u001b[0m",
      "\u001b[1;31mModuleNotFoundError\u001b[0m                       Traceback (most recent call last)",
      "\u001b[1;32m<ipython-input-2-af717dbdb0dc>\u001b[0m in \u001b[0;36m<module>\u001b[1;34m()\u001b[0m\n\u001b[1;32m----> 1\u001b[1;33m \u001b[1;32mimport\u001b[0m \u001b[0mserial\u001b[0m\u001b[1;33m\u001b[0m\u001b[0m\n\u001b[0m\u001b[0;32m      2\u001b[0m \u001b[1;32mimport\u001b[0m \u001b[0mos\u001b[0m\u001b[1;33m\u001b[0m\u001b[0m\n\u001b[0;32m      3\u001b[0m \u001b[1;32mimport\u001b[0m \u001b[0mglob\u001b[0m\u001b[1;33m\u001b[0m\u001b[0m\n",
      "\u001b[1;31mModuleNotFoundError\u001b[0m: No module named 'serial'"
     ]
    }
   ],
   "source": [
    "import serial\n",
    "import os\n",
    "import glob"
   ]
  },
  {
   "cell_type": "code",
   "execution_count": null,
   "metadata": {},
   "outputs": [],
   "source": []
  },
  {
   "cell_type": "code",
   "execution_count": null,
   "metadata": {},
   "outputs": [],
   "source": []
  },
  {
   "cell_type": "code",
   "execution_count": null,
   "metadata": {},
   "outputs": [],
   "source": []
  },
  {
   "cell_type": "markdown",
   "metadata": {},
   "source": [
    "### CSV data to hex"
   ]
  },
  {
   "cell_type": "code",
   "execution_count": null,
   "metadata": {},
   "outputs": [],
   "source": [
    "#file_name = sys.argv[1]\n",
    "file_name = 'function_check_MDC.csv'"
   ]
  },
  {
   "cell_type": "code",
   "execution_count": null,
   "metadata": {},
   "outputs": [],
   "source": [
    "cmd_df = pd.read_csv(file_name,sep=',')\n",
    "action_list = cmd_df.loc[:,'action']"
   ]
  },
  {
   "cell_type": "markdown",
   "metadata": {},
   "source": [
    "### serial config"
   ]
  },
  {
   "cell_type": "code",
   "execution_count": null,
   "metadata": {},
   "outputs": [],
   "source": [
    "target = \"COM9\"\n",
    "baudrate = \"500000\""
   ]
  },
  {
   "cell_type": "markdown",
   "metadata": {},
   "source": [
    "### generate cmd file"
   ]
  },
  {
   "cell_type": "code",
   "execution_count": null,
   "metadata": {},
   "outputs": [],
   "source": [
    "def generate_cmd_bin_file(file_name, start_cmd_index):\n",
    "    cmd_df = pd.read_csv(file_name,sep=',')\n",
    "    action_list = cmd_df.loc[:,'action']\n",
    "    remove_data_name_list = ['module','action']\n",
    "    for remove_data_name in remove_data_name_list:\n",
    "        del cmd_df[remove_data_name]\n",
    "    cmd_df = cmd_df.astype(bytes)\n",
    "    ascii_data_name_list = ['cmd_target','task_target']\n",
    "    data_name_index = cmd_df.columns\n",
    "    hex_data_name_list = list(data_name_index)\n",
    "    \n",
    "    for ascii_data_name in ascii_data_name_list:\n",
    "        hex_data_name_list.remove(ascii_data_name)\n",
    "    for i in cmd_df.index:\n",
    "        for hex_data_name in hex_data_name_list:\n",
    "            data_int = int(cmd_df.loc[i,hex_data_name],16)\n",
    "            data_bytes = data_int.to_bytes(1,'little')\n",
    "            if data_int != 0:\n",
    "                cmd_df.loc[i,hex_data_name] = data_bytes\n",
    "            if data_int == 0x30:\n",
    "                cmd_df.loc[i,hex_data_name] = b'30'\n",
    "    cmd_length = 32\n",
    "    start_add = 0x0000\n",
    "    \n",
    "    for i in cmd_df.index:\n",
    "        add = start_add + cmd_length*i\n",
    "        add_h_int = add >>8\n",
    "        add_l_int = add & 0x00FF\n",
    "        cmd_df.loc[i,'EEPROM_high_adress'] = add_h_int.to_bytes(1,'little')\n",
    "        cmd_df.loc[i,'EEPROM_low_adress'] = add_l_int.to_bytes(1,'little')\n",
    "        if add_h_int == 0x00:\n",
    "            cmd_df.loc[i,'EEPROM_high_adress'] = b'0'\n",
    "        if add_l_int == 0x00:\n",
    "            cmd_df.loc[i,'EEPROM_low_adress'] = b'0'\n",
    "            \n",
    "    start_ID = 0x00\n",
    "    cmd_ID = start_ID\n",
    "    \n",
    "    for i in cmd_df.index:\n",
    "        cmd_df.loc[i,'cmd_ID'] = cmd_ID.to_bytes(1,'little')\n",
    "        if cmd_ID == 0x00:\n",
    "            cmd_df.loc[i,'cmd_ID'] = b'0'\n",
    "        cmd_ID += 1\n",
    "        if(cmd_ID > 0xFF):\n",
    "            cmd_ID = 0x00\n",
    "    datetime_now = datetime.datetime.now()\n",
    "    start_seconds = 10 ## change if needed\n",
    "    td_start = datetime.timedelta(seconds=start_seconds)\n",
    "    start_daytime = datetime_now + td_start\n",
    "    cmd_daytime = start_daytime\n",
    "    datetime_data_name_list = ['year','month','day','hour','minute','second']\n",
    "    \n",
    "    #set time tag\n",
    "    for i in range(start_cmd_index, len(cmd_df)):\n",
    "        for datetime_data_name in datetime_data_name_list:\n",
    "            datetime_data = getattr(cmd_daytime, datetime_data_name)\n",
    "            timetag_name = 'timetag_{0}'.format(datetime_data_name)\n",
    "            if datetime_data_name == 'year':\n",
    "                datetime_data -= 2000\n",
    "\n",
    "            cmd_df.loc[i,timetag_name] = datetime_data.to_bytes(1,'little')\n",
    "            if datetime_data == 0x00:\n",
    "                cmd_df.loc[i,timetag_name] = b'0'\n",
    "            elif datetime_data == 0x30:\n",
    "                cmd_df.loc[i,timetag_name] = b'30'\n",
    "        time_interval_s = int.from_bytes(cmd_df.loc[i,'time_interval'],'big')\n",
    "        interval_daytime = datetime.timedelta(seconds = time_interval_s)\n",
    "        cmd_daytime = cmd_daytime + interval_daytime\n",
    "        \n",
    "    option_data_name_list = ['time_interval']\n",
    "    cmd_data_name_list = list(data_name_index)\n",
    "    \n",
    "    for option_data_name in option_data_name_list:\n",
    "        cmd_data_name_list.remove(option_data_name)\n",
    "    bin_file_name = 'cmd_{0}_{1}_{2}.bin'.format(start_daytime.hour,start_daytime.minute,start_daytime.second)\n",
    "    f = open(bin_file_name, 'wb')\n",
    "    for i in cmd_df.index:\n",
    "        for data_name in cmd_data_name_list:\n",
    "            if cmd_df.loc[i,data_name] == b'0':\n",
    "                f.write(bytes(b'\\x00'))\n",
    "            elif cmd_df.loc[i,data_name] == b'00':\n",
    "                f.write(bytes(b'\\x00'))\n",
    "            elif cmd_df.loc[i,data_name] == b'30':\n",
    "                f.write(bytes(b'\\x30'))\n",
    "            else:\n",
    "                f.write(cmd_df.loc[i,data_name])\n",
    "    f.close()\n",
    "    return bin_file_name"
   ]
  },
  {
   "cell_type": "markdown",
   "metadata": {},
   "source": [
    "### serial config"
   ]
  },
  {
   "cell_type": "code",
   "execution_count": 3,
   "metadata": {},
   "outputs": [],
   "source": [
    "def sendExecuteCmd(target,baudrate):\n",
    "    ser = serial.Serial(target,baudrate)\n",
    "    ser.write(b'\\xff')\n",
    "    for j in range(32 - 1):\n",
    "        ser.write(b'\\x00')\n",
    "    ser.close()"
   ]
  },
  {
   "cell_type": "code",
   "execution_count": 4,
   "metadata": {},
   "outputs": [],
   "source": [
    "def sendTimeTagCmd(target, baurate, cmd , crc_16):\n",
    "    ser = serial.Serial(target,baudrate)\n",
    "    crc_l = int(crc_16 & 0x00FF).to_bytes(1,'big')\n",
    "    crc_h = (int(crc_16)>>8).to_bytes(1,'big')\n",
    "    for i in range(len(cmd)):\n",
    "        send_bytes = cmd[i].to_bytes(1,'big')\n",
    "        if i == 30:\n",
    "            send_bytes = crc_l\n",
    "        elif i == 29:\n",
    "            send_bytes = crc_h\n",
    "            \n",
    "        if send_bytes == b'\\xc0':\n",
    "            ser.write(b'\\xdb')\n",
    "            ser.write(b'\\xdc')\n",
    "        elif send_bytes == b'\\db':\n",
    "            ser.write(b'\\xdb')\n",
    "            ser.write(b'\\xdd')\n",
    "        else:\n",
    "            ser.write(send_bytes)\n",
    "    ser.close()"
   ]
  },
  {
   "cell_type": "code",
   "execution_count": 5,
   "metadata": {},
   "outputs": [],
   "source": [
    "def crc16(cmd):\n",
    "    crc = 0xFFFF\n",
    "    poly = 0xa001\n",
    "    cmd_array = bytearray(cmd)\n",
    "    for i in range(len(cmd_array)):\n",
    "        cmd_byte = cmd_array[i]\n",
    "        crc ^= cmd_byte\n",
    "        for _ in range(0, 8):\n",
    "            if crc & 0x0001:\n",
    "                crc = (crc >> 1) ^ poly\n",
    "            else:\n",
    "                crc >>= 1\n",
    "    return np.uint16(~crc)"
   ]
  },
  {
   "cell_type": "markdown",
   "metadata": {},
   "source": [
    "## send cmd"
   ]
  },
  {
   "cell_type": "code",
   "execution_count": 6,
   "metadata": {},
   "outputs": [],
   "source": [
    "def get_cmd_list_from_bin(bin_file_name, cmd_num, cmd_length):\n",
    "    f = open(bin_file_name, 'rb')\n",
    "    cmd_list = [] \n",
    "    for i in range(cmd_num):\n",
    "        cmd = f.read(cmd_length)\n",
    "        cmd_list.append(cmd)\n",
    "    f.close()\n",
    "    return cmd_list"
   ]
  },
  {
   "cell_type": "code",
   "execution_count": 7,
   "metadata": {},
   "outputs": [
    {
     "ename": "NameError",
     "evalue": "name 'generate_cmd_bin_file' is not defined",
     "output_type": "error",
     "traceback": [
      "\u001b[1;31m---------------------------------------------------------------------------\u001b[0m",
      "\u001b[1;31mNameError\u001b[0m                                 Traceback (most recent call last)",
      "\u001b[1;32m<ipython-input-7-1757aa650ec3>\u001b[0m in \u001b[0;36m<module>\u001b[1;34m()\u001b[0m\n\u001b[1;32m----> 1\u001b[1;33m \u001b[0mbin_file_name\u001b[0m \u001b[1;33m=\u001b[0m \u001b[0mgenerate_cmd_bin_file\u001b[0m\u001b[1;33m(\u001b[0m\u001b[0mfile_name\u001b[0m\u001b[1;33m,\u001b[0m\u001b[1;36m0\u001b[0m\u001b[1;33m)\u001b[0m\u001b[1;33m\u001b[0m\u001b[0m\n\u001b[0m\u001b[0;32m      2\u001b[0m \u001b[0mcmd_list\u001b[0m \u001b[1;33m=\u001b[0m \u001b[0mget_cmd_list_from_bin\u001b[0m\u001b[1;33m(\u001b[0m\u001b[0mbin_file_name\u001b[0m\u001b[1;33m,\u001b[0m\u001b[0mlen\u001b[0m\u001b[1;33m(\u001b[0m\u001b[0mcmd_df\u001b[0m\u001b[1;33m)\u001b[0m\u001b[1;33m,\u001b[0m \u001b[1;36m32\u001b[0m\u001b[1;33m)\u001b[0m\u001b[1;33m\u001b[0m\u001b[0m\n",
      "\u001b[1;31mNameError\u001b[0m: name 'generate_cmd_bin_file' is not defined"
     ]
    }
   ],
   "source": [
    "bin_file_name = generate_cmd_bin_file(file_name,0)\n",
    "cmd_list = get_cmd_list_from_bin(bin_file_name,len(cmd_df), 32)"
   ]
  },
  {
   "cell_type": "code",
   "execution_count": 8,
   "metadata": {},
   "outputs": [
    {
     "ename": "NameError",
     "evalue": "name 'cmd_df' is not defined",
     "output_type": "error",
     "traceback": [
      "\u001b[1;31m---------------------------------------------------------------------------\u001b[0m",
      "\u001b[1;31mNameError\u001b[0m                                 Traceback (most recent call last)",
      "\u001b[1;32m<ipython-input-8-bea6bc1c64e0>\u001b[0m in \u001b[0;36m<module>\u001b[1;34m()\u001b[0m\n\u001b[0;32m      1\u001b[0m \u001b[0mi\u001b[0m \u001b[1;33m=\u001b[0m \u001b[1;36m0\u001b[0m\u001b[1;33m\u001b[0m\u001b[0m\n\u001b[1;32m----> 2\u001b[1;33m \u001b[1;32mwhile\u001b[0m \u001b[0mi\u001b[0m \u001b[1;33m<\u001b[0m \u001b[0mlen\u001b[0m\u001b[1;33m(\u001b[0m\u001b[0mcmd_df\u001b[0m\u001b[1;33m)\u001b[0m\u001b[1;33m:\u001b[0m\u001b[1;33m\u001b[0m\u001b[0m\n\u001b[0m\u001b[0;32m      3\u001b[0m     \u001b[0mcmd\u001b[0m \u001b[1;33m=\u001b[0m \u001b[0mcmd_list\u001b[0m\u001b[1;33m[\u001b[0m\u001b[0mi\u001b[0m\u001b[1;33m]\u001b[0m\u001b[1;33m\u001b[0m\u001b[0m\n\u001b[0;32m      4\u001b[0m     \u001b[0mcrc_16\u001b[0m \u001b[1;33m=\u001b[0m \u001b[0mcrc16\u001b[0m\u001b[1;33m(\u001b[0m\u001b[0mcmd\u001b[0m\u001b[1;33m[\u001b[0m\u001b[1;33m:\u001b[0m\u001b[1;36m29\u001b[0m\u001b[1;33m]\u001b[0m\u001b[1;33m)\u001b[0m\u001b[1;33m\u001b[0m\u001b[0m\n\u001b[0;32m      5\u001b[0m     \u001b[0mprint\u001b[0m\u001b[1;33m(\u001b[0m\u001b[1;34m\"enter: Send/\"\u001b[0m\u001b[1;33m,\u001b[0m \u001b[0mend\u001b[0m\u001b[1;33m=\u001b[0m\u001b[1;34m\" \"\u001b[0m\u001b[1;33m)\u001b[0m\u001b[1;33m\u001b[0m\u001b[0m\n",
      "\u001b[1;31mNameError\u001b[0m: name 'cmd_df' is not defined"
     ]
    }
   ],
   "source": [
    "i = 0\n",
    "while i < len(cmd_df):\n",
    "    cmd = cmd_list[i]\n",
    "    crc_16 = crc16(cmd[:29])\n",
    "    print(\"enter: Send/\", end=\" \")\n",
    "    print(\"e : Send and Execute/\", end=\" \")\n",
    "    print(\"r : Return previous/\", end=\" \")\n",
    "    print(\"s : Skip/\", end=\" \")\n",
    "    print(\"t : Time offset/\", end=\" \")\n",
    "    print(\"q : Quit\")\n",
    "    if i < len(cmd_df) - 1:\n",
    "        next_cmd_action = \"next \\\"{0}\\\"\".format(action_list[i+1])\n",
    "    else:\n",
    "        next_cmd_action = \"Last cmd\"\n",
    "    print(\"\\\"{0}\\\" / {1}\".format(action_list[i], next_cmd_action), end=\" \")\n",
    "    key = input(\" Please push key:\")\n",
    "    if key == 's':\n",
    "        print('Skip')\n",
    "        i += 1\n",
    "        if i == (len(cmd_df) -1):\n",
    "            print('last cmd start')\n",
    "            sendExecuteCmd(target,baudrate)\n",
    "        continue\n",
    "    elif key == 'q':\n",
    "        print('Quit')\n",
    "        break\n",
    "    elif key == 'e':\n",
    "        print('Send and Execute')\n",
    "        sendTimeTagCmd(target, baudrate, cmd ,crc_16)\n",
    "        time.sleep(1)\n",
    "        sendExecuteCmd(target,baudrate)\n",
    "    elif key == 'r':\n",
    "        if i < 1:\n",
    "            continue\n",
    "        i = i - 1\n",
    "        os.remove(bin_file_name)\n",
    "        bin_file_name = generate_cmd_bin_file(file_name,i)\n",
    "        cmd_list = get_cmd_list_from_bin(bin_file_name,len(cmd_df), 32)\n",
    "        print('\\r\\n')\n",
    "        continue\n",
    "    elif key == 't':\n",
    "        os.remove(bin_file_name)\n",
    "        bin_file_name = generate_cmd_bin_file(file_name,i)\n",
    "        cmd_list = get_cmd_list_from_bin(bin_file_name,len(cmd_df), 32)\n",
    "        continue\n",
    "    else:\n",
    "        print('Send')\n",
    "        sendTimeTagCmd(target, baudrate, cmd, crc_16)\n",
    "        if i == (len(cmd_df) -1):\n",
    "            print('last cmd start')\n",
    "            sendExecuteCmd(target,baudrate)\n",
    "    print('\\r\\n')\n",
    "    i += 1\n",
    "print(\"finish all cmd\")"
   ]
  },
  {
   "cell_type": "code",
   "execution_count": 13,
   "metadata": {},
   "outputs": [],
   "source": [
    "os.remove(bin_file_name)"
   ]
  }
 ],
 "metadata": {
  "kernelspec": {
   "display_name": "Python 3",
   "language": "python",
   "name": "python3"
  },
  "language_info": {
   "codemirror_mode": {
    "name": "ipython",
    "version": 3
   },
   "file_extension": ".py",
   "mimetype": "text/x-python",
   "name": "python",
   "nbconvert_exporter": "python",
   "pygments_lexer": "ipython3",
   "version": "3.7.0"
  }
 },
 "nbformat": 4,
 "nbformat_minor": 2
}
